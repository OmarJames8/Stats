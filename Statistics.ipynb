{
  "nbformat": 4,
  "nbformat_minor": 0,
  "metadata": {
    "colab": {
      "provenance": []
    },
    "kernelspec": {
      "name": "python3",
      "display_name": "Python 3"
    },
    "language_info": {
      "name": "python"
    }
  },
  "cells": [
    {
      "cell_type": "markdown",
      "source": [
        "**Probabilites**"
      ],
      "metadata": {
        "id": "KP60BPjvmFse"
      }
    },
    {
      "cell_type": "markdown",
      "source": [
        "A LED bulb manufacturing company regularly conducts quality checks at specified periods on the products it manufactures. Historically, the failure rate for LED light bulbs that the company manufactures is 5%. Suppose a random sample of 10 LED light bulbs is selected. What is the probability that\n",
        "\n",
        "\n",
        "* a) None of the LED bulbs are defective\n",
        "* b) Exactly one of the LED bulbs is defective?\n",
        "* c) Two or fewer of the LED bulbs are defective? \n",
        "*d) Three or more of the LED bulbs are defective   \n",
        "\n",
        "\n"
      ],
      "metadata": {
        "id": "A7wDREihi4s6"
      }
    },
    {
      "cell_type": "code",
      "source": [
        "import numpy             as np\n",
        "import pandas            as pd\n",
        "import scipy.stats       as stats\n",
        "import matplotlib.pyplot as plt"
      ],
      "metadata": {
        "id": "CMWeYni6hYy7"
      },
      "execution_count": null,
      "outputs": []
    },
    {
      "cell_type": "code",
      "source": [
        "p   =  0.05 # failure rate for LED light bulbs that the company manufactures is 5%\n",
        "n   =  10 # sample size\n",
        "k   =  np.arange(0,11) # An array of quantiles"
      ],
      "metadata": {
        "id": "95NNM1SfjoZz"
      },
      "execution_count": null,
      "outputs": []
    },
    {
      "cell_type": "code",
      "source": [
        "binomial = stats.binom.pmf(k,n,p)"
      ],
      "metadata": {
        "id": "e6qApjucjrL4"
      },
      "execution_count": null,
      "outputs": []
    },
    {
      "cell_type": "code",
      "source": [
        "print(binomial)"
      ],
      "metadata": {
        "colab": {
          "base_uri": "https://localhost:8080/"
        },
        "id": "7vSnSQy0jt83",
        "outputId": "72c26b21-8da9-4bb1-bef9-e253071adc38"
      },
      "execution_count": null,
      "outputs": [
        {
          "output_type": "stream",
          "name": "stdout",
          "text": [
            "[5.98736939e-01 3.15124705e-01 7.46347985e-02 1.04750594e-02\n",
            " 9.64808106e-04 6.09352488e-05 2.67259863e-06 8.03789062e-08\n",
            " 1.58642578e-09 1.85546875e-11 9.76562500e-14]\n"
          ]
        }
      ]
    },
    {
      "cell_type": "code",
      "source": [
        "print('a) None of the LED bulbs are defective? is %1.4f' %binomial[0])"
      ],
      "metadata": {
        "colab": {
          "base_uri": "https://localhost:8080/"
        },
        "id": "hTDliN2cjx4h",
        "outputId": "860518fc-d910-4036-9a7d-1f624596c9b3"
      },
      "execution_count": null,
      "outputs": [
        {
          "output_type": "stream",
          "name": "stdout",
          "text": [
            "a) None of the LED bulbs are defective? is 0.5987\n"
          ]
        }
      ]
    },
    {
      "cell_type": "code",
      "source": [
        "print('b) Exactly one of the LED bulbs is defective? is %1.4f' %binomial[1])"
      ],
      "metadata": {
        "colab": {
          "base_uri": "https://localhost:8080/"
        },
        "id": "_Fo6wXCfj3io",
        "outputId": "cb631e9b-dd37-44eb-f6b9-dbe04b2f6e41"
      },
      "execution_count": null,
      "outputs": [
        {
          "output_type": "stream",
          "name": "stdout",
          "text": [
            "b) Exactly one of the LED bulbs is defective? is 0.3151\n"
          ]
        }
      ]
    },
    {
      "cell_type": "code",
      "source": [
        "#To answer next question we need to calculate cumultive probabilty of \n",
        "cumbinomial = stats.binom.cdf(k,n,p)"
      ],
      "metadata": {
        "id": "ZqgRuoYKj55W"
      },
      "execution_count": null,
      "outputs": []
    },
    {
      "cell_type": "code",
      "source": [
        "print(cumbinomial)"
      ],
      "metadata": {
        "colab": {
          "base_uri": "https://localhost:8080/"
        },
        "id": "WHU588uckPF2",
        "outputId": "95164f12-10a5-49d6-dd80-c1cc6f88c9bb"
      },
      "execution_count": null,
      "outputs": [
        {
          "output_type": "stream",
          "name": "stdout",
          "text": [
            "[0.59873694 0.91386164 0.98849644 0.9989715  0.99993631 0.99999725\n",
            " 0.99999992 1.         1.         1.         1.        ]\n"
          ]
        }
      ]
    },
    {
      "cell_type": "code",
      "source": [
        "print('c) Two or fewer of the LED bulbs are defective? is %1.4f' %cumbinomial[2])"
      ],
      "metadata": {
        "colab": {
          "base_uri": "https://localhost:8080/"
        },
        "id": "eEZGjbW1kT-U",
        "outputId": "6805971f-f0a2-44e0-951c-3b543b07e096"
      },
      "execution_count": null,
      "outputs": [
        {
          "output_type": "stream",
          "name": "stdout",
          "text": [
            "c) Two or fewer of the LED bulbs are defective? is 0.9885\n"
          ]
        }
      ]
    },
    {
      "cell_type": "code",
      "source": [
        "P = 1- cumbinomial[2]\n",
        "print('d) Three or more of the LED bulbs are defective is %1.4f' % P)"
      ],
      "metadata": {
        "colab": {
          "base_uri": "https://localhost:8080/"
        },
        "id": "UyVrc2XkkW7A",
        "outputId": "1c85de90-e3fc-47f3-8ed4-fc4f26806bc3"
      },
      "execution_count": null,
      "outputs": [
        {
          "output_type": "stream",
          "name": "stdout",
          "text": [
            "d) Three or more of the LED bulbs are defective is 0.0115\n"
          ]
        }
      ]
    },
    {
      "cell_type": "code",
      "source": [
        "plt.plot(k,binomial, 'o-')\n",
        "plt.title('Binomial')\n",
        "plt.xlabel('Number of Def LED bulbs')\n",
        "plt.ylabel('Prob of Defective LED bulbs')\n",
        "plt.show()"
      ],
      "metadata": {
        "colab": {
          "base_uri": "https://localhost:8080/",
          "height": 295
        },
        "id": "xPOVJQUbkcWm",
        "outputId": "57e782dd-a70d-4afb-b2f1-96402efc8d4c"
      },
      "execution_count": null,
      "outputs": [
        {
          "output_type": "display_data",
          "data": {
            "text/plain": [
              "<Figure size 432x288 with 1 Axes>"
            ],
            "image/png": "[encoded data removed]"
          },
          "metadata": {
            "needs_background": "light"
          }
        }
      ]
    },
    {
      "cell_type": "markdown",
      "source": [
        "**Uniform Distributions**"
      ],
      "metadata": {
        "id": "vHl1DQHqmd0e"
      }
    },
    {
      "cell_type": "code",
      "source": [
        "# for inline plots in jupyter\n",
        "%matplotlib inline\n",
        "import matplotlib.pyplot as plt\n",
        "# for latex equations\n",
        "from IPython.display import Math, Latex\n",
        "# for displaying images\n",
        "from IPython.core.display import Image"
      ],
      "metadata": {
        "id": "TVXRNbNInALf"
      },
      "execution_count": null,
      "outputs": []
    },
    {
      "cell_type": "code",
      "source": [
        "import seaborn as sns\n",
        "# settings for seaborn plotting style\n",
        "sns.set(color_codes=True)\n",
        "# settings for seaborn plot sizes\n",
        "sns.set(rc={'figure.figsize':(5,5)})"
      ],
      "metadata": {
        "id": "b-KE6xI4nC19"
      },
      "execution_count": null,
      "outputs": []
    },
    {
      "cell_type": "code",
      "source": [
        "# import uniform distribution\n",
        "from scipy.stats import uniform\n",
        "import warnings\n",
        "warnings.filterwarnings(\"ignore\")"
      ],
      "metadata": {
        "id": "qrlcZ10wmmcd"
      },
      "execution_count": null,
      "outputs": []
    },
    {
      "cell_type": "code",
      "source": [
        "n = 10000\n",
        "start = 10\n",
        "width = 20"
      ],
      "metadata": {
        "id": "6BeufMPYmrgN"
      },
      "execution_count": null,
      "outputs": []
    },
    {
      "cell_type": "code",
      "source": [
        "data_uniform = uniform.rvs(size=n, loc=start, scale=width)"
      ],
      "metadata": {
        "id": "CgPSUxRdmw79"
      },
      "execution_count": null,
      "outputs": []
    },
    {
      "cell_type": "code",
      "source": [
        "ax = sns.distplot(data_uniform,\n",
        "                  bins=100,\n",
        "                  kde=True,\n",
        "                  color='blue',\n",
        "                  hist_kws={\"linewidth\": 15,'alpha':1})\n",
        "ax.set(xlabel='Uniform Distribution ', ylabel='Frequency')"
      ],
      "metadata": {
        "colab": {
          "base_uri": "https://localhost:8080/",
          "height": 356
        },
        "id": "NWwTf1aNm1ce",
        "outputId": "e26cd9a1-b468-4864-863a-86208b2d3934"
      },
      "execution_count": null,
      "outputs": [
        {
          "output_type": "execute_result",
          "data": {
            "text/plain": [
              "[Text(0, 0.5, 'Frequency'), Text(0.5, 0, 'Uniform Distribution ')]"
            ]
          },
          "metadata": {},
          "execution_count": 21
        },
        {
          "output_type": "display_data",
          "data": {
            "text/plain": [
              "<Figure size 360x360 with 1 Axes>"
            ],
            "image/png": "[encoded data removed]"
          },
          "metadata": {}
        }
      ]
    },
    {
      "cell_type": "markdown",
      "source": [
        "**A Life Insurance agent sells on the average 3 life insurance policies per week. Use the Poisson law to calculate the probability that in a given week, he will sell a. Some policies b. 2 or more but less than 5 policies?**"
      ],
      "metadata": {
        "id": "Cxd2fZueo9df"
      }
    },
    {
      "cell_type": "code",
      "source": [
        "rate =  3 # which is the mean\n",
        "n    =  np.arange(0,16)\n",
        "cumpoisson = stats.poisson.cdf(n,rate)"
      ],
      "metadata": {
        "id": "jZ4Zf-SOpAFc"
      },
      "execution_count": null,
      "outputs": []
    },
    {
      "cell_type": "code",
      "source": [
        "# P = probability that the agent sells some policies\n",
        "P   = 1 - cumpoisson[0]\n",
        "print(' a) Probability that the agent sells some policies is %1.4f' % P)"
      ],
      "metadata": {
        "colab": {
          "base_uri": "https://localhost:8080/"
        },
        "id": "h8DeO9mIpHa8",
        "outputId": "32d3c618-bd67-4994-f276-b6cbb9a466d7"
      },
      "execution_count": null,
      "outputs": [
        {
          "output_type": "stream",
          "name": "stdout",
          "text": [
            " a) Probability that the agent sells some policies is 0.9502\n"
          ]
        }
      ]
    },
    {
      "cell_type": "code",
      "source": [
        "#a) Probability that the agent sells some policies is 0.9502\n",
        "#b. Agent sells 2 or more but less than 5 policies\n",
        "\n",
        "# Let P1 be the probability that the agent sells more than 4 policies\n",
        "\n",
        "P1 = cumpoisson[4] # P(X >=4)\n",
        "\n",
        "# Let P2 be the probability that the agent sells more than 1 policy\n",
        "\n",
        "P2 = cumpoisson[1] # P(X >=1)\n",
        "\n",
        "P = P1 - P2 # Prob. that the agent will sell between 2 and 5 policies\n",
        "\n",
        "print(' b) Probability that the agent sells between 2 and 5 policies is %1.4f' % P)"
      ],
      "metadata": {
        "colab": {
          "base_uri": "https://localhost:8080/"
        },
        "id": "aeCLxZ2VpKYU",
        "outputId": "fab6d26e-b85d-4578-bf02-cfd9ac3bff22"
      },
      "execution_count": null,
      "outputs": [
        {
          "output_type": "stream",
          "name": "stdout",
          "text": [
            " b) Probability that the agent sells between 2 and 5 policies is 0.6161\n"
          ]
        }
      ]
    },
    {
      "cell_type": "code",
      "source": [
        "poisson = stats.poisson.pmf(n,rate)\n",
        "plt.plot(n,poisson, 'o-')\n",
        "plt.title('Poisson')\n",
        "plt.xlabel('Number of Policies sold per week')\n",
        "plt.ylabel('Cumulative Prob of Policies sold per week')\n",
        "plt.show()"
      ],
      "metadata": {
        "colab": {
          "base_uri": "https://localhost:8080/",
          "height": 355
        },
        "id": "IalqMcCdpYKt",
        "outputId": "732a790e-37ac-42d0-a3fc-67555e36a55e"
      },
      "execution_count": null,
      "outputs": [
        {
          "output_type": "display_data",
          "data": {
            "text/plain": [
              "<Figure size 360x360 with 1 Axes>"
            ],
            "image/png": "[encoded data removed]"
          },
          "metadata": {}
        }
      ]
    },
    {
      "cell_type": "markdown",
      "source": [
        "**Normal Distribution**"
      ],
      "metadata": {
        "id": "UeIshAUDs54O"
      }
    },
    {
      "cell_type": "code",
      "source": [
        "from scipy.stats import norm\n",
        "import matplotlib.pyplot as plt\n",
        "import numpy as np"
      ],
      "metadata": {
        "id": "nuaj8h-RtAnr"
      },
      "execution_count": null,
      "outputs": []
    },
    {
      "cell_type": "code",
      "source": [
        "##create a subplot\n",
        "fig, ax = plt.subplots(1, 1)\n",
        "\n",
        "# Mean Variance Skew and Kurtios\n",
        "mean, var, skew, kurt = norm.stats(moments='mvsk')\n",
        "\n",
        "#display the probability density function\n",
        "x = np.linspace(norm.ppf(0.01),norm.ppf(0.99), 100)\n",
        "ax.plot(x, norm.pdf(x), 'r-', lw=5, alpha=0.6, label='norm pdf')\n",
        "\n",
        "\n",
        "# Freeze the distribution and display the frozen pdf:\n",
        "rv = norm()\n",
        "ax.plot(x, rv.pdf(x), 'k-', lw=2, label='frozen pdf')\n",
        "r = norm.rvs(size=1000)\n",
        "\n",
        "\n",
        "ax.hist(r, density=True, histtype='stepfilled', alpha=0.2)\n",
        "ax.legend(loc='best', frameon=False)\n",
        "plt.show()"
      ],
      "metadata": {
        "colab": {
          "base_uri": "https://localhost:8080/",
          "height": 322
        },
        "id": "utpSbWbNtEXL",
        "outputId": "25d88b60-ecbd-4298-9bf0-89e6f0ec4642"
      },
      "execution_count": null,
      "outputs": [
        {
          "output_type": "display_data",
          "data": {
            "text/plain": [
              "<Figure size 360x360 with 1 Axes>"
            ],
            "image/png": "[encoded data removed]"
          },
          "metadata": {}
        }
      ]
    }
  ]
}